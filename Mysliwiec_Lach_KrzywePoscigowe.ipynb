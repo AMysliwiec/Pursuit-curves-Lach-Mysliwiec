{
 "cells": [
  {
   "cell_type": "markdown",
   "id": "caef073b",
   "metadata": {},
   "source": [
    "# KRZYWE POŚCIGOWE\n"
   ]
  },
  {
   "cell_type": "markdown",
   "id": "6d6451d5",
   "metadata": {},
   "source": [
    "## Wstęp "
   ]
  },
  {
   "cell_type": "code",
   "execution_count": null,
   "id": "0452110b",
   "metadata": {},
   "outputs": [],
   "source": []
  },
  {
   "cell_type": "markdown",
   "id": "b9fa4d95",
   "metadata": {},
   "source": [
    "## Notka historyczna"
   ]
  },
  {
   "cell_type": "code",
   "execution_count": null,
   "id": "1019ec12",
   "metadata": {},
   "outputs": [],
   "source": []
  },
  {
   "cell_type": "markdown",
   "id": "002af697",
   "metadata": {},
   "source": [
    "## Algorytm znajdowania krzywych pościgowych "
   ]
  },
  {
   "cell_type": "markdown",
   "id": "4277a17a",
   "metadata": {},
   "source": [
    "### Proste krzywe pogoni"
   ]
  },
  {
   "cell_type": "markdown",
   "id": "bd96fb2f",
   "metadata": {},
   "source": [
    "Najprostszym przypadkiem krzywych pościgowych jest sytuacja, w której cel porusza się po pewnej prostej, ze stałą prędkością. <br>\n",
    "Załóżmy zatem, że para $(x,y)$ określa położenie pewnego punktu A w układzie współrzędnych w czasie $t$. Niech w czasie $t = 0$ znajduje się on w $(0,0)$ oraz niech porusza się ze stałą prędkością $\\alpha$. Teraz niech punkt $B$ będzie jego celem. $B$ wyrusza z punktu $(x_{0},0)$ ze stałą prędkością $\\beta$.<br>\n",
    "Punkt $A$, goniąc $B$, porusza się zawsze w stronę uciekającego punktu $B$, co oznacza, że wektor prędkości $A$ jest skierowany bezposrednio do $B$ przez cały czas trwania pościgu.<br>\n",
    "Naszym celem będzie znalezienie równania $y = y(x)$ określającego krzywą pościgu.<br>\n",
    "Aby to zrobić, znajdziemy stycznej do owej generowanej przez punkt A krzywej pościgu. Punkt $A$ w czasie $t$ znajduje się w $(x,y)$ a punkt $B$ w $(x_{0},\\beta t)$. Zatem nachylenie stycznej wyraża się poprzez równanie<br> \n",
    "$$\\frac{dy}{dx}=\\frac{\\beta t - y}{x_{0}-x}.$$\n",
    "Wyliczamy z niego $t$.\n",
    "$$\\frac{dy}{dx}(x_{0}-x)+y=\\beta t$$\n",
    "$$t=\\frac{y+\\frac{dy}{dx}(x_{0}-x)}{\\beta}$$"
   ]
  },
  {
   "cell_type": "markdown",
   "id": "cd254b23",
   "metadata": {},
   "source": [
    "Wiemy także, że w czasie $t$ punkt $A$ zdążył przebyć pewną trasę, ktorej długość możemy wyliczyć, korzystając ze wzoru na długość łuku z analizy wektorowej.\n",
    "$$\\alpha t = \\int_{0}^x \\sqrt{1 + {\\left( \\frac{dy}{dz}\\right) }^2 }dz$$\n",
    "Ponownie znajdujemy $t$.\n",
    "$$t = \\frac{1}{\\alpha}\\int_{0}^x \\sqrt{1 + {\\left( \\frac{dy}{dz}\\right) }^2 }dz$$\n",
    "Porównujemy teraz wyprowadzone przez nas równania na $t$ i otrzymujemy\n",
    "$$\\frac{1}{\\alpha}\\int_{0}^x \\sqrt{1 + {\\left( \\frac{dy}{dz}\\right) }^2 }dz = \\frac{1}{\\beta} \\left(y+\\frac{dy}{dx}(x_{0}-x)\\right)$$ \n",
    "Teraz, aby rozwiązać to równanie różniczkowe zastosujemy podstawienie $p(x)=\\frac{dy}{dx}$.\n",
    "$$\\frac{\\beta}{\\alpha}\\int_{0}^x \\sqrt{1 + {p(z)}^2 }dz = y+p(x)(x_{0}-x)$$ \n",
    "Dla ułatwienia podstawmy także stałą $k=\\frac{\\beta}{\\alpha}$ oraz zróżniczkujmy równanie po $dx$.\n",
    "$$k\\sqrt{1 + {p(x)}^2} = \\frac{dy}{dx}+\\frac{d(p(x)(x_{0}-x))}{dx}$$ \n",
    "Stosując zasady różniczkowania iloczynu oraz po ponownym podstawieniu $p(x)=\\frac{dy}{dx}$ otrzymujemy\n",
    "$$k\\sqrt{1 + {p(x)}^2} = p(x) + \\frac{dp}{dx}(x_{0}-x) - p(x).$$\n",
    "Zatem po uporządkowaniu zostaje nam równanie różniczkowe pierwszego stopnia, które można rozwiązać metodą rozdzielenia zmiennych.\n",
    "$$k\\sqrt{1 + {p(x)}^2} =\\frac{dp}{dx}(x_{0}-x)$$\n",
    "$$-k\\int\\frac{dx}{x-x_{0}}=\\int\\frac{dp}{\\sqrt{1 + {p(x)}^2}}$$\n",
    "Całka z lewej strony jest całką elementarną z logarytmu, za to ta z prawej wymaga użycia wzoru $\\int\\frac{dx}{\\sqrt{x^2+q}}=\\ln{|x + \\sqrt{x^2+q}|} + C$. Otrzymujemy\n",
    "$$-k\\ln{|x-x_{0}|}=\\ln{|p(x) + \\sqrt{1 + {p(x)}^2}|}+C.$$"
   ]
  },
  {
   "cell_type": "markdown",
   "id": "98ce3f2c",
   "metadata": {},
   "source": [
    "Aby opuścić wartość bezwględną, w logarytmie z lewej strony musimy zmienić znak, gdyż zakładamy, że $x<x_{0}$. Gdy już punkt A dogoni B (czyli dotrze do punktu $x_0$), to się zatrzyma. W logarytmie z prawej strony zakładamy że $p(x)=\\frac{dy}{dx}$ będzie zawsze dodatnie. Ostatecznie \n",
    "$$-k\\ln{\\left( x_{0}-x\\right)}=\\ln{\\left( p(x) + \\sqrt{1 + {p(x)}^2}\\right)}+C.$$\n",
    "W tym momencie możemy wyliczyć stałą C, biorąc za warunki początkowe $\\frac{dy}{dx} = 0$ dla $t=0$.\n",
    "$$-k\\ln{x_{0}} - \\ln{1} = C$$ $$C = -k\\ln{x_{0}}$$\n",
    "Otrzymujemy zatem równanie, które porządkujemy przy pomocy działań elementarnych na logarytmach i rozwiązujemy.\n",
    "$$-k\\ln{\\left( x_{0}-x\\right)}=\\ln{\\left( p(x) + \\sqrt{1 + {p(x)}^2}\\right)}-k\\ln{x_{0}}$$\n",
    "$$k\\ln{\\left( \\frac{x_{0}}{x_{0}-x}\\right) }=\\ln{\\left( p(x) + \\sqrt{1 + {p(x)}^2}\\right)}$$\n",
    "$${\\left( \\frac{x_{0}}{x_{0}-x}\\right) }^k = p(x) + \\sqrt{1 + {p(x)}^2}$$\n",
    "$${\\left( \\frac{x_{0}}{x_{0}-x}\\right) }^k - p(x) = \\sqrt{1 + {p(x)}^2}$$\n",
    "$${\\left( \\frac{x_{0}}{x_{0}-x}\\right) }^{2k} - 2p(x){\\left( \\frac{x_{0}}{x_{0}-x}\\right) }^k + {p(x)}^2 = 1 + {p(x)}^2$$\n",
    "$$p(x) = \\frac{1}{2}\\left( {\\left( \\frac{x_{0}}{x_{0}-x}\\right) }^{2k}-1 \\right)\\frac{1}{{\\left( \\frac{x_{0}}{x_{0}-x}\\right) }^{k}}$$\n",
    "$$p(x) = \\frac{1}{2}\\left( {\\left( \\frac{x_{0}}{x_{0}-x}\\right) }^{k}-{\\left( \\frac{x_{0}}{x_{0}-x}\\right) }^{-k}\\right) $$"
   ]
  },
  {
   "cell_type": "markdown",
   "id": "637fef60",
   "metadata": {},
   "source": [
    " Teraz należy tylko wrócić do wyjściowego podstawienia $p(x)=\\frac{dy}{dx}$ i znaleźć szukane $y(x)$. \n",
    " $$\\frac{dy}{dx} = \\frac{1}{2}\\left( {\\left( \\frac{x_{0}}{x_{0}-x}\\right) }^{k}-{\\left( \\frac{x_{0}}{x_{0}-x}\\right) }^{-k}\\right) $$\n",
    " $$\\int{dy} = \\frac{1}{2}\\int{\\left( {\\left( \\frac{x_{0}}{x_{0}-x}\\right) }^{k}-{\\left( \\frac{x_{0}}{x_{0}-x}\\right) }^{-k}\\right)dx} $$\n",
    " Całka z lewej jest całką elementarną, zajmiemy się całką z prawej.\n",
    "$$\\frac{1}{2}\\int{\\left( {\\left( \\frac{x_{0}}{x_{0}-x}\\right) }^{k}-{\\left( \\frac{x_{0}}{x_{0}-x}\\right) }^{-k}\\right)dx} = \n",
    "\\frac{1}{2}\\left({x_{0}}^k\\int{{(x_{0}-x)}^{-k}dx}-{x_{0}}^{-k}\\int{{(x_{0}-x)}^{k}dx}\\right)=\n",
    "\\begin{vmatrix}\n",
    "w = x_{0}-x\\\\\n",
    "dw = -dx\n",
    "\\end{vmatrix} = $$\n",
    "$$\\frac{1}{2}\\left( -{x_{0}}^k\\int{{w}^{-k}dw}+{x_{0}}^{-k}\\int{{w}^{k}dw}\\right) = \n",
    "\\frac{1}{2}\\left( -{x_{0}}^k\\frac{{w}^{-k+1}}{-k+1}+{x_{0}}^{-k}\\frac{{w}^{k+1}}{k+1}\\right) + C=\n",
    "\\frac{1}{2}\\left( -{x_{0}}^k\\frac{{(x_{0}-x)}^{-k+1}}{-k+1}+{x_{0}}^{-k}\\frac{{(x_{0}-x)}^{k+1}}{k+1}\\right) + C=$$\n",
    "$$\\frac{1}{2}(x_{0}-x)\\left( -\\frac{{x_{0}}^k{(x_{0}-x)}^{-k}}{-k+1}+\\frac{{x_{0}}^{-k}{(x_{0}-x)}^{k}}{k+1}\\right) + C=\n",
    "\\frac{1}{2}(x_{0}-x)\\left({\\left(\\frac{x_{0}-x}{x_{0}}\\right)}^{k}\\frac{1}{k+1}-{\\left(\\frac{x_{0}}{x_{0}-x}\\right)}^{k}\\frac{1}{1-k}\\right) + C\n",
    "$$\n",
    "Ostatecznie otrzymujemy zatem, że \n",
    "$$y(x) = \\frac{1}{2}(x_{0}-x)\\left({\\left(\\frac{x_{0}-x}{x_{0}}\\right)}^{k}\\frac{1}{k+1}-{\\left(\\frac{x_{0}}{x_{0}-x}\\right)}^{k}\\frac{1}{1-k}\\right) + C\n",
    "$$\n",
    "Mamy jednak niewykorzystane warunki początkowe w formie punktu startowego - $y(0)=0$. Podstawiamy.\n",
    "$$y(0) = \\frac{1}{2}x_{0}\\left( \\frac{1}{k+1} - \\frac{1}{1-k}\\right) +C = 0$$\n",
    "$$C = -\\frac{1}{2}x_{0}\\frac{1-k-k-1}{1-k^2}= x_{0}\\frac{k}{1-k^2}$$\n"
   ]
  },
  {
   "cell_type": "markdown",
   "id": "55bd8041",
   "metadata": {},
   "source": [
    "Ostatecznie równanie prostej krzywej pościgu wyraża się wzorem\n",
    "$$y(x) = \\frac{1}{2}(x_{0}-x)\\left({\\left(\\frac{x_{0}-x}{x_{0}}\\right)}^{k}\\frac{1}{k+1}-{\\left(\\frac{x_{0}}{x_{0}-x}\\right)}^{k}\\frac{1}{1-k}\\right) + x_{0}\\frac{k}{1-k^2},$$\n",
    "gdzie $k=\\frac{\\beta}{\\alpha}$ - stosunek prędkości punktów B i A."
   ]
  },
  {
   "cell_type": "code",
   "execution_count": null,
   "id": "18cf8d0a",
   "metadata": {},
   "outputs": [],
   "source": []
  }
 ],
 "metadata": {
  "kernelspec": {
   "display_name": "Julia 1.6.1",
   "language": "julia",
   "name": "julia-1.6"
  },
  "language_info": {
   "file_extension": ".jl",
   "mimetype": "application/julia",
   "name": "julia",
   "version": "1.6.1"
  }
 },
 "nbformat": 4,
 "nbformat_minor": 5
}
